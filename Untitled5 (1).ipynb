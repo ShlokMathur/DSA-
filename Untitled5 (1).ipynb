{
  "nbformat": 4,
  "nbformat_minor": 0,
  "metadata": {
    "colab": {
      "provenance": []
    },
    "kernelspec": {
      "name": "python3",
      "display_name": "Python 3"
    },
    "language_info": {
      "name": "python"
    }
  },
  "cells": [
    {
      "cell_type": "code",
      "execution_count": 8,
      "metadata": {
        "colab": {
          "base_uri": "https://localhost:8080/"
        },
        "id": "DgXVk_arpXzh",
        "outputId": "dade2071-015b-425f-af65-179d608b03ba"
      },
      "outputs": [
        {
          "output_type": "stream",
          "name": "stdout",
          "text": [
            "Deposited 500. New balance: 1500\n",
            "Withdrew 200. New balance: 1300\n",
            "Deposit amount must be positive.\n",
            "Invalid withdrawal amount.\n"
          ]
        }
      ],
      "source": [
        "class BankAccount:\n",
        "    def __init__(self, account_number, holder_name, balance=0):\n",
        "        self.account_number = account_number\n",
        "        self.holder_name = holder_name\n",
        "        self.balance = balance\n",
        "\n",
        "    def deposit(self, amount):\n",
        "        if amount > 0:\n",
        "            self.balance += amount\n",
        "            print(f\"Deposited {amount}. New balance: {self.balance}\")\n",
        "        else:\n",
        "            print(\"Deposit amount must be positive.\")\n",
        "\n",
        "    def withdraw(self, amount):\n",
        "        if amount > 0 and amount <= self.balance:\n",
        "            self.balance -= amount\n",
        "            print(f\"Withdrew {amount}. New balance: {self.balance}\")\n",
        "        else:\n",
        "            print(\"Invalid withdrawal amount.\")\n",
        "\n",
        "# Example usage\n",
        "account = BankAccount(\"123456\", \"John Doe\", 1000)\n",
        "account.deposit(500)\n",
        "account.withdraw(200)\n",
        "account.deposit(-50)\n",
        "account.withdraw(2000)\n"
      ]
    },
    {
      "cell_type": "code",
      "source": [
        "class Employee:\n",
        "    def __init__(self, employee_id, name, salary):\n",
        "        self.employee_id = employee_id\n",
        "        self.name = name\n",
        "        self.salary = salary\n",
        "\n",
        "    def calculate_yearly_bonus(self, bonus_percentage=10):\n",
        "        bonus = self.salary * bonus_percentage / 100\n",
        "        return bonus\n",
        "\n",
        "    def display_details(self):\n",
        "        print(f\"Employee ID: {self.employee_id}, Name: {self.name}, Salary: {self.salary}\")\n",
        "\n",
        "# Example usage\n",
        "employee = Employee(\"E001\", \"Alice Smith\", 50000)\n",
        "bonus = employee.calculate_yearly_bonus(15)\n",
        "print(f\"Yearly Bonus: {bonus}\")\n",
        "employee.display_details()\n"
      ],
      "metadata": {
        "colab": {
          "base_uri": "https://localhost:8080/"
        },
        "id": "CW9yLcQopa5g",
        "outputId": "16eaf94f-798c-499c-a5f8-ef2d8850bc2a"
      },
      "execution_count": 9,
      "outputs": [
        {
          "output_type": "stream",
          "name": "stdout",
          "text": [
            "Yearly Bonus: 7500.0\n",
            "Employee ID: E001, Name: Alice Smith, Salary: 50000\n"
          ]
        }
      ]
    },
    {
      "cell_type": "code",
      "source": [
        "class VehicleRental:\n",
        "    def __init__(self):\n",
        "        self.vehicles = {\"Car\": 5, \"Bike\": 10}\n",
        "\n",
        "    def rent_vehicle(self, vehicle_type):\n",
        "        if vehicle_type in self.vehicles and self.vehicles[vehicle_type] > 0:\n",
        "            self.vehicles[vehicle_type] -= 1\n",
        "            print(f\"{vehicle_type} rented. Remaining {vehicle_type}s: {self.vehicles[vehicle_type]}\")\n",
        "        else:\n",
        "            print(f\"No {vehicle_type} available.\")\n",
        "\n",
        "    def return_vehicle(self, vehicle_type):\n",
        "        if vehicle_type in self.vehicles:\n",
        "            self.vehicles[vehicle_type] += 1\n",
        "            print(f\"{vehicle_type} returned. Total {vehicle_type}s: {self.vehicles[vehicle_type]}\")\n",
        "        else:\n",
        "            print(f\"{vehicle_type} not recognized.\")\n",
        "\n",
        "    def display_available_vehicles(self):\n",
        "        print(\"Available vehicles:\")\n",
        "        for vehicle, count in self.vehicles.items():\n",
        "            print(f\"{vehicle}: {count}\")\n",
        "\n",
        "# Example usage\n",
        "rental = VehicleRental()\n",
        "rental.display_available_vehicles()\n",
        "rental.rent_vehicle(\"Car\")\n",
        "rental.rent_vehicle(\"Bike\")\n",
        "rental.rent_vehicle(\"Truck\")\n",
        "rental.return_vehicle(\"Car\")\n",
        "rental.display_available_vehicles()\n"
      ],
      "metadata": {
        "colab": {
          "base_uri": "https://localhost:8080/"
        },
        "id": "nGE9rVw8peXZ",
        "outputId": "5e002e82-8681-4787-d04a-5503cb4f9f30"
      },
      "execution_count": 10,
      "outputs": [
        {
          "output_type": "stream",
          "name": "stdout",
          "text": [
            "Available vehicles:\n",
            "Car: 5\n",
            "Bike: 10\n",
            "Car rented. Remaining Cars: 4\n",
            "Bike rented. Remaining Bikes: 9\n",
            "No Truck available.\n",
            "Car returned. Total Cars: 5\n",
            "Available vehicles:\n",
            "Car: 5\n",
            "Bike: 9\n"
          ]
        }
      ]
    },
    {
      "cell_type": "code",
      "source": [
        "class Book:\n",
        "    def __init__(self, title, author):\n",
        "        self.title = title\n",
        "        self.author = author\n",
        "        self.is_borrowed = False\n",
        "\n",
        "class Library:\n",
        "    def __init__(self):\n",
        "        self.books = []\n",
        "\n",
        "    def add_book(self, book):\n",
        "        self.books.append(book)\n",
        "        print(f\"Added book: {book.title} by {book.author}\")\n",
        "\n",
        "    def borrow_book(self, title):\n",
        "        for book in self.books:\n",
        "            if book.title == title and not book.is_borrowed:\n",
        "                book.is_borrowed = True\n",
        "                print(f\"Borrowed book: {book.title}\")\n",
        "                return\n",
        "        print(\"Book not available.\")\n",
        "\n",
        "    def display_available_books(self):\n",
        "        print(\"Available books:\")\n",
        "        for book in self.books:\n",
        "            if not book.is_borrowed:\n",
        "                print(f\"{book.title} by {book.author}\")\n",
        "\n",
        "# Example usage\n",
        "library = Library()\n",
        "book1 = Book(\"The Great Gatsby\", \"F. Scott Fitzgerald\")\n",
        "book2 = Book(\"1984\", \"George Orwell\")\n",
        "library.add_book(book1)\n",
        "library.add_book(book2)\n",
        "library.display_available_books()\n",
        "library.borrow_book(\"1984\")\n",
        "library.borrow_book(\"The Great Gatsby\")\n",
        "library.borrow_book(\"Moby Dick\")\n",
        "library.display_available_books()\n"
      ],
      "metadata": {
        "colab": {
          "base_uri": "https://localhost:8080/"
        },
        "id": "F9nc28xJpgUO",
        "outputId": "d929b368-2fa6-4a7c-bceb-3d87d347a6f9"
      },
      "execution_count": 11,
      "outputs": [
        {
          "output_type": "stream",
          "name": "stdout",
          "text": [
            "Added book: The Great Gatsby by F. Scott Fitzgerald\n",
            "Added book: 1984 by George Orwell\n",
            "Available books:\n",
            "The Great Gatsby by F. Scott Fitzgerald\n",
            "1984 by George Orwell\n",
            "Borrowed book: 1984\n",
            "Borrowed book: The Great Gatsby\n",
            "Book not available.\n",
            "Available books:\n"
          ]
        }
      ]
    },
    {
      "cell_type": "code",
      "source": [
        "class Student:\n",
        "    def __init__(self, student_id, name, grades):\n",
        "        self.student_id = student_id\n",
        "        self.name = name\n",
        "        self.grades = grades\n",
        "\n",
        "    def calculate_average_grade(self):\n",
        "        if self.grades:\n",
        "            return sum(self.grades) / len(self.grades)\n",
        "        else:\n",
        "            return 0\n",
        "\n",
        "    def display_details(self):\n",
        "        avg_grade = self.calculate_average_grade()\n",
        "        print(f\"Student ID: {self.student_id}, Name: {self.name}, Average Grade: {avg_grade}\")\n",
        "\n",
        "# Example usage\n",
        "student = Student(\"S123\", \"John Doe\", [85, 90, 78, 92])\n",
        "average_grade = student.calculate_average_grade()\n",
        "print(f\"Average Grade: {average_grade}\")\n",
        "student.display_details()\n"
      ],
      "metadata": {
        "colab": {
          "base_uri": "https://localhost:8080/"
        },
        "id": "n6JgcSXupica",
        "outputId": "a1b2851e-2ea1-4d77-98a5-c0ee30a7633a"
      },
      "execution_count": 12,
      "outputs": [
        {
          "output_type": "stream",
          "name": "stdout",
          "text": [
            "Average Grade: 86.25\n",
            "Student ID: S123, Name: John Doe, Average Grade: 86.25\n"
          ]
        }
      ]
    },
    {
      "cell_type": "code",
      "source": [
        "class SocialMediaProfile:\n",
        "    def __init__(self, username):\n",
        "        self.username = username\n",
        "        self.posts = []\n",
        "\n",
        "    def add_post(self, content):\n",
        "        self.posts.append(content)\n",
        "        print(\"Post added.\")\n",
        "\n",
        "    def display_posts(self):\n",
        "        print(f\"Posts by {self.username}:\")\n",
        "        for post in self.posts:\n",
        "            print(post)\n",
        "\n",
        "    def search_posts(self, keyword):\n",
        "        print(f\"Searching posts for keyword '{keyword}':\")\n",
        "        for post in self.posts:\n",
        "            if keyword.lower() in post.lower():\n",
        "                print(post)\n",
        "\n",
        "# Example usage\n",
        "profile = SocialMediaProfile(\"john_doe\")\n",
        "profile.add_post(\"Hello, world!\")\n",
        "profile.add_post(\"Learning Python is fun.\")\n",
        "profile.add_post(\"Python programming tips.\")\n",
        "profile.display_posts()\n",
        "profile.search_posts(\"Python\")\n"
      ],
      "metadata": {
        "colab": {
          "base_uri": "https://localhost:8080/"
        },
        "id": "0H-cZMICpjHW",
        "outputId": "8e77699b-5ad5-400f-8c5d-55e6b6536bc8"
      },
      "execution_count": 13,
      "outputs": [
        {
          "output_type": "stream",
          "name": "stdout",
          "text": [
            "Post added.\n",
            "Post added.\n",
            "Post added.\n",
            "Posts by john_doe:\n",
            "Hello, world!\n",
            "Learning Python is fun.\n",
            "Python programming tips.\n",
            "Searching posts for keyword 'Python':\n",
            "Learning Python is fun.\n",
            "Python programming tips.\n"
          ]
        }
      ]
    }
  ]
}